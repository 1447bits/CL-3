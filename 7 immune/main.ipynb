{
 "cells": [
  {
   "cell_type": "code",
   "execution_count": null,
   "id": "dfa67c5b",
   "metadata": {},
   "outputs": [],
   "source": [
    "!pip install scikit-learn numpy matplotlib seaborn\n"
   ]
  },
  {
   "cell_type": "code",
   "execution_count": 1,
   "id": "b1236ebb",
   "metadata": {},
   "outputs": [
    {
     "name": "stdout",
     "output_type": "stream",
     "text": [
      "Test Accuracy: 100.00 %\n"
     ]
    }
   ],
   "source": [
    "import numpy as np\n",
    "\n",
    "# Generate structured dummy data\n",
    "def generate_structured_data(samples=1000, features=10):\n",
    "    healthy_data = np.random.normal(loc=0.4, scale=0.1, size=(samples // 2, features))\n",
    "    damaged_data = np.random.normal(loc=0.6, scale=0.1, size=(samples // 2, features))\n",
    "\n",
    "\n",
    "    \n",
    "    data = np.vstack((healthy_data, damaged_data))\n",
    "    labels = np.array([0] * (samples // 2) + [1] * (samples // 2))\n",
    "    \n",
    "    # Shuffle the dataset\n",
    "    indices = np.random.permutation(samples)\n",
    "    return data[indices], labels[indices]\n",
    "\n",
    "# AIRS-like model\n",
    "class SimpleAIRS:\n",
    "    def __init__(self, num_detectors=20):\n",
    "        self.num_detectors = num_detectors\n",
    "\n",
    "    def train(self, X, y):\n",
    "        # Randomly select some samples as detectors\n",
    "        idxs = np.random.choice(len(X), self.num_detectors, replace=False)\n",
    "        self.detectors = X[idxs]\n",
    "        self.detector_labels = y[idxs]\n",
    "\n",
    "    def predict(self, X):\n",
    "        predictions = []\n",
    "        for sample in X:\n",
    "            distances = np.linalg.norm(self.detectors - sample, axis=1)\n",
    "            nearest_idx = np.argmin(distances)\n",
    "            predictions.append(self.detector_labels[nearest_idx])\n",
    "        return np.array(predictions)\n",
    "\n",
    "# Generate data\n",
    "data, labels = generate_structured_data(samples=1000, features=100)\n",
    "\n",
    "# Split into training and testing\n",
    "split_ratio = 0.8\n",
    "split_index = int(split_ratio * len(data))\n",
    "train_data, test_data = data[:split_index], data[split_index:]\n",
    "train_labels, test_labels = labels[:split_index], labels[split_index:]\n",
    "\n",
    "# Train and test AIRS\n",
    "airs = SimpleAIRS(num_detectors=4)\n",
    "airs.train(train_data, train_labels)\n",
    "predictions = airs.predict(test_data)\n",
    "\n",
    "# Evaluate accuracy\n",
    "accuracy = np.mean(predictions == test_labels) * 100\n",
    "print(f\"Test Accuracy: {accuracy:.2f} %\")\n"
   ]
  },
  {
   "cell_type": "code",
   "execution_count": 3,
   "id": "a7b029b6",
   "metadata": {},
   "outputs": [],
   "source": [
    "import numpy as np\n",
    "import matplotlib.pyplot as plt\n",
    "from sklearn.datasets import make_classification\n",
    "from sklearn.model_selection import train_test_split\n",
    "from sklearn.metrics import accuracy_score, confusion_matrix\n",
    "import seaborn as sns\n"
   ]
  },
  {
   "cell_type": "code",
   "execution_count": 4,
   "id": "4ea66358",
   "metadata": {},
   "outputs": [
    {
     "name": "stdout",
     "output_type": "stream",
     "text": [
      "Test Accuracy: 61.00 %\n",
      "Confusion Matrix:\n",
      " [[53 60]\n",
      " [18 69]]\n"
     ]
    },
    {
     "data": {
      "image/png": "[encoded data removed]",
      "text/plain": [
       "<Figure size 500x400 with 2 Axes>"
      ]
     },
     "metadata": {},
     "output_type": "display_data"
    }
   ],
   "source": [
    "class ArtificialImmuneClassifier:\n",
    "    def __init__(self, n_detectors=20, n_clones=5, mutation_rate=0.05, n_generations=10):\n",
    "        self.n_detectors = n_detectors\n",
    "        self.n_clones = n_clones\n",
    "        self.mutation_rate = mutation_rate\n",
    "        self.n_generations = n_generations\n",
    "        self.memory_cells = []\n",
    "\n",
    "    def _affinity(self, v1, v2):\n",
    "        return -np.linalg.norm(v1 - v2)\n",
    "\n",
    "    def fit(self, X, y):\n",
    "        # Initialize memory cells with random detectors\n",
    "        idxs = np.random.choice(len(X), self.n_detectors, replace=False)\n",
    "        self.memory_cells = [{'vector': X[i], 'label': y[i]} for i in idxs]\n",
    "\n",
    "        for _ in range(self.n_generations):\n",
    "            new_memory = []\n",
    "            for antigen, label in zip(X, y):\n",
    "                bmu = max(self.memory_cells, key=lambda ab: self._affinity(ab['vector'], antigen))\n",
    "                clones = [dict(bmu) for _ in range(self.n_clones)]\n",
    "\n",
    "                for clone in clones:\n",
    "                    noise = np.random.normal(0, self.mutation_rate, size=antigen.shape)\n",
    "                    clone['vector'] += noise\n",
    "\n",
    "                best_clone = max(clones, key=lambda ab: self._affinity(ab['vector'], antigen))\n",
    "\n",
    "                # Replace if better affinity\n",
    "                if self._affinity(best_clone['vector'], antigen) > self._affinity(bmu['vector'], antigen):\n",
    "                    new_memory.append({'vector': best_clone['vector'], 'label': label})\n",
    "                else:\n",
    "                    new_memory.append(bmu)\n",
    "\n",
    "            self.memory_cells = new_memory\n",
    "\n",
    "    def predict(self, X):\n",
    "        preds = []\n",
    "        for x in X:\n",
    "            bmu = max(self.memory_cells, key=lambda ab: self._affinity(ab['vector'], x))\n",
    "            preds.append(bmu['label'])\n",
    "        return np.array(preds)\n",
    "\n",
    "\n",
    "# Step 1: Simulate structured classification data\n",
    "X, y = make_classification(n_samples=1000, n_features=10, n_informative=6,\n",
    "                           n_redundant=2, n_classes=2, random_state=42)\n",
    "\n",
    "# Step 2: Train-test split\n",
    "X_train, X_test, y_train, y_test = train_test_split(X, y, test_size=0.2, random_state=42)\n",
    "\n",
    "# Step 3: Train unified immune classifier\n",
    "model = ArtificialImmuneClassifier(n_detectors=20, n_clones=10, mutation_rate=0.05, n_generations=10)\n",
    "model.fit(X_train, y_train)\n",
    "y_pred = model.predict(X_test)\n",
    "\n",
    "# Step 4: Evaluate\n",
    "acc = accuracy_score(y_test, y_pred)\n",
    "cm = confusion_matrix(y_test, y_pred)\n",
    "print(f\"Test Accuracy: {acc * 100:.2f} %\")\n",
    "print(\"Confusion Matrix:\\n\", cm)\n",
    "\n",
    "# Step 5: Plot Confusion Matrix\n",
    "plt.figure(figsize=(5, 4))\n",
    "sns.heatmap(cm, annot=True, fmt='d', cmap='Blues', xticklabels=['No Damage', 'Damage'], yticklabels=['No Damage', 'Damage'])\n",
    "plt.title('Structural Damage Classification')\n",
    "plt.xlabel('Predicted')\n",
    "plt.ylabel('Actual')\n",
    "plt.tight_layout()\n",
    "plt.show()\n"
   ]
  }
 ],
 "metadata": {
  "kernelspec": {
   "display_name": "Python 3",
   "language": "python",
   "name": "python3"
  },
  "language_info": {
   "codemirror_mode": {
    "name": "ipython",
    "version": 3
   },
   "file_extension": ".py",
   "mimetype": "text/x-python",
   "name": "python",
   "nbconvert_exporter": "python",
   "pygments_lexer": "ipython3",
   "version": "3.12.10"
  }
 },
 "nbformat": 4,
 "nbformat_minor": 5
}
