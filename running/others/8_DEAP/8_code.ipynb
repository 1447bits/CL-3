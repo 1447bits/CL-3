{
  "cells": [
    {
      "cell_type": "code",
      "execution_count": 1,
      "metadata": {
        "colab": {
          "base_uri": "https://localhost:8080/"
        },
        "id": "4XeqTtGZmKVa",
        "outputId": "8ec27cb2-09c0-4094-a972-8c00d8238749"
      },
      "outputs": [
        {
          "name": "stdout",
          "output_type": "stream",
          "text": [
            "Collecting deap\n",
            "  Obtaining dependency information for deap from https://files.pythonhosted.org/packages/61/c0/f1a383cbb852e4d486e3213cd6d4292f4f789ec32631da15646d3eb13165/deap-1.4.2-cp312-cp312-win_amd64.whl.metadata\n",
            "  Downloading deap-1.4.2-cp312-cp312-win_amd64.whl.metadata (13 kB)\n",
            "Requirement already satisfied: numpy in c:\\users\\dell\\appdata\\local\\programs\\python\\python312\\lib\\site-packages (from deap) (1.26.4)\n",
            "Downloading deap-1.4.2-cp312-cp312-win_amd64.whl (109 kB)\n",
            "   ---------------------------------------- 0.0/109.9 kB ? eta -:--:--\n",
            "   -------------------------- ------------- 71.7/109.9 kB 3.8 MB/s eta 0:00:01\n",
            "   ---------------------------------------- 109.9/109.9 kB 2.1 MB/s eta 0:00:00\n",
            "Installing collected packages: deap\n",
            "Successfully installed deap-1.4.2\n"
          ]
        },
        {
          "name": "stderr",
          "output_type": "stream",
          "text": [
            "\n",
            "[notice] A new release of pip is available: 23.2.1 -> 25.0.1\n",
            "[notice] To update, run: python.exe -m pip install --upgrade pip\n"
          ]
        }
      ],
      "source": [
        "!pip install deap"
      ]
    },
    {
      "cell_type": "code",
      "execution_count": 5,
      "metadata": {
        "colab": {
          "base_uri": "https://localhost:8080/"
        },
        "id": "96tLm9j0kC0t",
        "outputId": "dbf63e0f-4013-4a9a-c902-3ca2e294e09d"
      },
      "outputs": [
        {
          "name": "stdout",
          "output_type": "stream",
          "text": [
            "Best individual: [-0.0006328491295035216, 0.0010775676853765504, -0.012569254267910872]\n",
            "Best fitness: 0.0001595478029886768\n"
          ]
        }
      ],
      "source": [
        "import random\n",
        "from deap import base, creator, tools, algorithms\n",
        "\n",
        "# Define the evaluation function (minimize a simple mathematical function)\n",
        "def eval_func(individual):\n",
        "    # Example evaluation function (minimize a quadratic function)\n",
        "    return sum(x ** 2 for x in individual),\n",
        "\n",
        "# DEAP setup\n",
        "creator.create(\"FitnessMin\", base.Fitness, weights=(-1.0,))  # Minimize the fitness value\n",
        "creator.create(\"Individual\", list, fitness=creator.FitnessMin)  # Individuals are lists of floats\n",
        "\n",
        "toolbox = base.Toolbox()\n",
        "\n",
        "# Define attributes and individuals\n",
        "toolbox.register(\"attr_float\", random.uniform, -5.0, 5.0)  # Float values between -5 and 5\n",
        "toolbox.register(\"individual\", tools.initRepeat, creator.Individual, toolbox.attr_float, n=3)  # 3-dimensional individual\n",
        "toolbox.register(\"population\", tools.initRepeat, list, toolbox.individual)\n",
        "\n",
        "# Evaluation function and genetic operators\n",
        "toolbox.register(\"evaluate\", eval_func)\n",
        "toolbox.register(\"mate\", tools.cxBlend, alpha=0.5)  # Blend crossover\n",
        "toolbox.register(\"mutate\", tools.mutGaussian, mu=0, sigma=1, indpb=0.2)  # Gaussian mutation\n",
        "toolbox.register(\"select\", tools.selTournament, tournsize=3)  # Tournament selection\n",
        "\n",
        "# Create population\n",
        "population = toolbox.population(n=50)\n",
        "\n",
        "# Genetic Algorithm parameters\n",
        "generations = 25\n",
        "\n",
        "# Run the algorithm\n",
        "for gen in range(generations):\n",
        "    # Apply genetic operations (crossover and mutation)\n",
        "    offspring = algorithms.varAnd(population, toolbox, cxpb=0.5, mutpb=0.1)\n",
        "\n",
        "    # Evaluate the fitness of the offspring\n",
        "    fits = list(map(toolbox.evaluate, offspring))  # Evaluate using the map function\n",
        "    for fit, ind in zip(fits, offspring):\n",
        "        ind.fitness.values = fit  # Assign fitness values to individuals\n",
        "\n",
        "    # Select the next generation\n",
        "    population = toolbox.select(offspring, k=len(population))\n",
        "\n",
        "# Get the best individual after generations\n",
        "best_ind = tools.selBest(population, k=1)[0]\n",
        "best_fitness = best_ind.fitness.values[0]\n",
        "\n",
        "# Print the results\n",
        "print(\"Best individual:\", best_ind)\n",
        "print(\"Best fitness:\", best_fitness)\n"
      ]
    },
    {
      "cell_type": "code",
      "execution_count": null,
      "metadata": {},
      "outputs": [],
      "source": []
    }
  ],
  "metadata": {
    "colab": {
      "provenance": []
    },
    "kernelspec": {
      "display_name": "Python 3",
      "name": "python3"
    },
    "language_info": {
      "codemirror_mode": {
        "name": "ipython",
        "version": 3
      },
      "file_extension": ".py",
      "mimetype": "text/x-python",
      "name": "python",
      "nbconvert_exporter": "python",
      "pygments_lexer": "ipython3",
      "version": "3.12.0"
    }
  },
  "nbformat": 4,
  "nbformat_minor": 0
}
