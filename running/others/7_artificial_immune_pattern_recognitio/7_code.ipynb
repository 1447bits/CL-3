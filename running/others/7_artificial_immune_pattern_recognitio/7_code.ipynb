{
  "cells": [
    {
      "cell_type": "code",
      "execution_count": 4,
      "metadata": {
        "colab": {
          "base_uri": "https://localhost:8080/"
        },
        "id": "96tLm9j0kC0t",
        "outputId": "0faea5f8-d92a-4210-ad53-18d01581af98"
      },
      "outputs": [],
      "source": [
        "import numpy as np\n",
        "\n",
        "# Generate dummy data for demonstration purposes (replace this with your actual data)\n",
        "def generate_dummy_data(samples=1000, features=5):\n",
        "    data = np.random.rand(samples, features)\n",
        "    labels = np.random.randint(0, 2, size=samples)  # Binary labels (0 or 1)\n",
        "    return data, labels\n",
        "\n",
        "# Define the AIRS algorithm (Artificial Immune Recognition System)\n",
        "class AIRS:\n",
        "    def __init__(self, num_detectors=5):\n",
        "        self.num_detectors = num_detectors\n",
        "\n",
        "    def train(self, X, y):\n",
        "        # Randomly initialize detectors from the training data\n",
        "        self.detectors = X[np.random.choice(len(X), self.num_detectors, replace=False)]\n",
        "        self.detector_labels = y[np.random.choice(len(X), self.num_detectors, replace=False)]  # Store the labels for detectors\n",
        "\n",
        "    def predict(self, X):\n",
        "        predictions = []\n",
        "        for sample in X:\n",
        "            # Calculate the Euclidean distance between the sample and each detector\n",
        "            distances = np.linalg.norm(self.detectors - sample, axis=1)\n",
        "            # Find the label of the closest detector\n",
        "            closest_detector_index = np.argmin(distances)\n",
        "            predictions.append(self.detector_labels[closest_detector_index])\n",
        "        return predictions\n",
        "\n"
      ]
    },
    {
      "cell_type": "code",
      "execution_count": 5,
      "metadata": {},
      "outputs": [
        {
          "name": "stdout",
          "output_type": "stream",
          "text": [
            "Accuracy: 0.476\n"
          ]
        }
      ],
      "source": [
        "# Generate dummy data\n",
        "data, labels = generate_dummy_data()\n",
        "\n",
        "# Split data into training and testing sets\n",
        "split_ratio = 0.75\n",
        "split_index = int(split_ratio * len(data))\n",
        "train_data, test_data = data[:split_index], data[split_index:]\n",
        "train_labels, test_labels = labels[:split_index], labels[split_index:]\n",
        "\n",
        "# Initialize and train the AIRS model\n",
        "airs = AIRS(num_detectors=5)\n",
        "airs.train(train_data, train_labels)\n",
        "\n",
        "# Test AIRS on the test set\n",
        "predictions = airs.predict(test_data)\n",
        "\n",
        "# Evaluate accuracy\n",
        "accuracy = np.mean(predictions == test_labels)\n",
        "print(f\"Accuracy: {accuracy}\")\n"
      ]
    },
    {
      "cell_type": "code",
      "execution_count": 1,
      "metadata": {},
      "outputs": [
        {
          "name": "stdout",
          "output_type": "stream",
          "text": [
            "Requirement already satisfied: numpy in c:\\users\\dell\\appdata\\local\\programs\\python\\python312\\lib\\site-packages (1.26.4)\n"
          ]
        },
        {
          "name": "stderr",
          "output_type": "stream",
          "text": [
            "\n",
            "[notice] A new release of pip is available: 23.2.1 -> 25.0.1\n",
            "[notice] To update, run: python.exe -m pip install --upgrade pip\n"
          ]
        }
      ],
      "source": [
        "!pip install numpy"
      ]
    }
  ],
  "metadata": {
    "colab": {
      "provenance": []
    },
    "kernelspec": {
      "display_name": "Python 3",
      "name": "python3"
    },
    "language_info": {
      "codemirror_mode": {
        "name": "ipython",
        "version": 3
      },
      "file_extension": ".py",
      "mimetype": "text/x-python",
      "name": "python",
      "nbconvert_exporter": "python",
      "pygments_lexer": "ipython3",
      "version": "3.12.0"
    }
  },
  "nbformat": 4,
  "nbformat_minor": 0
}
